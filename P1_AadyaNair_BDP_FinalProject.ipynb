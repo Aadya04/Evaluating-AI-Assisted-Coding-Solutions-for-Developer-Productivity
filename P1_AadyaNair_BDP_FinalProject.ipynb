{
 "cells": [
  {
   "cell_type": "markdown",
   "metadata": {},
   "source": [
    "## Reading Git Final Project"
   ]
  },
  {
   "cell_type": "code",
   "execution_count": 1,
   "metadata": {
    "tags": []
   },
   "outputs": [],
   "source": [
    "import os\n",
    "import subprocess\n",
    "import datetime\n",
    "import pandas as pd\n",
    "\n",
    "import matplotlib.pyplot as plt\n",
    "import seaborn as sns\n",
    "\n",
    "from pyspark.sql import functions as F\n",
    "from pyspark.sql.types import *\n",
    "\n",
    "pd.set_option('display.max_rows', 100)\n",
    "pd.set_option('display.max_columns', None)\n",
    "pd.set_option('display.max_colwidth', None)"
   ]
  },
  {
   "cell_type": "code",
   "execution_count": 2,
   "metadata": {
    "tags": []
   },
   "outputs": [],
   "source": [
    "spark.conf.set(\"spark.sql.repl.eagerEval.enabled\",True)"
   ]
  },
  {
   "cell_type": "code",
   "execution_count": 3,
   "metadata": {
    "tags": []
   },
   "outputs": [],
   "source": [
    "gcs_folder = 'gs://msca-bdp-data-open/final_project_git'"
   ]
  },
  {
   "cell_type": "markdown",
   "metadata": {},
   "source": [
    "#### Check data size in GCS"
   ]
  },
  {
   "cell_type": "code",
   "execution_count": 9,
   "metadata": {
    "tags": []
   },
   "outputs": [
    {
     "name": "stdout",
     "output_type": "stream",
     "text": [
      "Total directory size: 1.36 TiB     gs://msca-bdp-data-open/final_project_git\n",
      "\n"
     ]
    }
   ],
   "source": [
    "cmd = 'gsutil du -s -h ' + gcs_folder\n",
    "\n",
    "p = subprocess.Popen(cmd, shell=True, stdout=subprocess.PIPE, stderr=subprocess.STDOUT, universal_newlines=True)\n",
    "for line in p.stdout.readlines():\n",
    "    print (f'Total directory size: {line}')\n",
    "    \n",
    "retval = p.wait() # Wait for the child process to terminate."
   ]
  },
  {
   "cell_type": "markdown",
   "metadata": {},
   "source": [
    "### Read Git data from GCS"
   ]
  },
  {
   "cell_type": "markdown",
   "metadata": {},
   "source": [
    "#### Languages\n",
    "Programming languages by repository as reported by GitHub's https://developer.github.com/v3/repos/#list-languages API"
   ]
  },
  {
   "cell_type": "code",
   "execution_count": 4,
   "metadata": {
    "tags": []
   },
   "outputs": [
    {
     "name": "stderr",
     "output_type": "stream",
     "text": [
      "[Stage 1:=============================>                             (4 + 4) / 8]\r"
     ]
    },
    {
     "name": "stdout",
     "output_type": "stream",
     "text": [
      "Records read from dataframe *languages*: 3,325,634\n",
      "CPU times: user 10.2 ms, sys: 3.46 ms, total: 13.7 ms\n",
      "Wall time: 11 s\n"
     ]
    },
    {
     "name": "stderr",
     "output_type": "stream",
     "text": [
      "                                                                                \r"
     ]
    }
   ],
   "source": [
    "%%time   \n",
    "    \n",
    "df_languages = spark.read.parquet(os.path.join(gcs_folder, 'languages'))\n",
    "print(f'Records read from dataframe *languages*: {df_languages.count():,.0f}')"
   ]
  },
  {
   "cell_type": "code",
   "execution_count": 10,
   "metadata": {
    "tags": []
   },
   "outputs": [
    {
     "name": "stdout",
     "output_type": "stream",
     "text": [
      "root\n",
      " |-- repo_name: string (nullable = true)\n",
      " |-- language: array (nullable = true)\n",
      " |    |-- element: struct (containsNull = true)\n",
      " |    |    |-- name: string (nullable = true)\n",
      " |    |    |-- bytes: long (nullable = true)\n",
      "\n"
     ]
    }
   ],
   "source": [
    "df_languages.printSchema()"
   ]
  },
  {
   "cell_type": "markdown",
   "metadata": {},
   "source": [
    "#### Licenses\n",
    "Open source license SPDX code for each repository as detected by https://developer.github.com/v3/licenses/"
   ]
  },
  {
   "cell_type": "code",
   "execution_count": 5,
   "metadata": {
    "tags": []
   },
   "outputs": [
    {
     "name": "stdout",
     "output_type": "stream",
     "text": [
      "Records read from dataframe *licenses*: 3,325,634\n",
      "CPU times: user 1.61 ms, sys: 3.49 ms, total: 5.1 ms\n",
      "Wall time: 1.19 s\n"
     ]
    }
   ],
   "source": [
    "%%time   \n",
    "    \n",
    "df_licenses = spark.read.parquet(os.path.join(gcs_folder, 'licenses'))\n",
    "print(f'Records read from dataframe *licenses*: {df_licenses.count():,.0f}')"
   ]
  },
  {
   "cell_type": "code",
   "execution_count": 11,
   "metadata": {
    "tags": []
   },
   "outputs": [
    {
     "name": "stdout",
     "output_type": "stream",
     "text": [
      "root\n",
      " |-- repo_name: string (nullable = true)\n",
      " |-- license: string (nullable = true)\n",
      "\n"
     ]
    }
   ],
   "source": [
    "df_licenses.printSchema()"
   ]
  },
  {
   "cell_type": "markdown",
   "metadata": {},
   "source": [
    "#### Commits\n",
    "Unique Git commits from open source repositories on GitHub, pre-grouped by repositories they appear in."
   ]
  },
  {
   "cell_type": "code",
   "execution_count": 8,
   "metadata": {
    "tags": []
   },
   "outputs": [
    {
     "name": "stderr",
     "output_type": "stream",
     "text": [
      "[Stage 6:====================================================>(3483 + 1) / 3484]\r"
     ]
    },
    {
     "name": "stdout",
     "output_type": "stream",
     "text": [
      "Records read from dataframe *commits*: 265,419,190\n",
      "CPU times: user 187 ms, sys: 37.6 ms, total: 225 ms\n",
      "Wall time: 1min 5s\n"
     ]
    },
    {
     "name": "stderr",
     "output_type": "stream",
     "text": [
      "                                                                                \r"
     ]
    }
   ],
   "source": [
    "%%time   \n",
    "    \n",
    "df_commits = spark.read.parquet(os.path.join(gcs_folder, 'commits'))\n",
    "print(f'Records read from dataframe *commits*: {df_commits.count():,.0f}')"
   ]
  },
  {
   "cell_type": "code",
   "execution_count": 22,
   "metadata": {
    "tags": []
   },
   "outputs": [
    {
     "name": "stdout",
     "output_type": "stream",
     "text": [
      "root\n",
      " |-- commit: string (nullable = true)\n",
      " |-- tree: string (nullable = true)\n",
      " |-- parent: array (nullable = true)\n",
      " |    |-- element: string (containsNull = true)\n",
      " |-- author: struct (nullable = true)\n",
      " |    |-- name: string (nullable = true)\n",
      " |    |-- email: string (nullable = true)\n",
      " |    |-- time_sec: long (nullable = true)\n",
      " |    |-- tz_offset: long (nullable = true)\n",
      " |    |-- date: struct (nullable = true)\n",
      " |    |    |-- seconds: long (nullable = true)\n",
      " |    |    |-- nanos: long (nullable = true)\n",
      " |-- committer: struct (nullable = true)\n",
      " |    |-- name: string (nullable = true)\n",
      " |    |-- email: string (nullable = true)\n",
      " |    |-- time_sec: long (nullable = true)\n",
      " |    |-- tz_offset: long (nullable = true)\n",
      " |    |-- date: struct (nullable = true)\n",
      " |    |    |-- seconds: long (nullable = true)\n",
      " |    |    |-- nanos: long (nullable = true)\n",
      " |-- subject: string (nullable = true)\n",
      " |-- message: string (nullable = true)\n",
      " |-- trailer: array (nullable = true)\n",
      " |    |-- element: struct (containsNull = true)\n",
      " |    |    |-- key: string (nullable = true)\n",
      " |    |    |-- value: string (nullable = true)\n",
      " |    |    |-- email: string (nullable = true)\n",
      " |-- difference: array (nullable = true)\n",
      " |    |-- element: struct (containsNull = true)\n",
      " |    |    |-- old_mode: long (nullable = true)\n",
      " |    |    |-- new_mode: long (nullable = true)\n",
      " |    |    |-- old_path: string (nullable = true)\n",
      " |    |    |-- new_path: string (nullable = true)\n",
      " |    |    |-- old_sha1: string (nullable = true)\n",
      " |    |    |-- new_sha1: string (nullable = true)\n",
      " |    |    |-- old_repo: string (nullable = true)\n",
      " |    |    |-- new_repo: string (nullable = true)\n",
      " |-- difference_truncated: boolean (nullable = true)\n",
      " |-- repo_name: array (nullable = true)\n",
      " |    |-- element: string (containsNull = true)\n",
      " |-- encoding: string (nullable = true)\n",
      "\n"
     ]
    }
   ],
   "source": [
    "df_commits.printSchema()"
   ]
  },
  {
   "cell_type": "markdown",
   "metadata": {},
   "source": [
    "#### Contents\n",
    "Unique file contents of text files under 1 MiB on the HEAD branch.  \n",
    "Can be joined to `files` dataset using the id columns to identify the repository and file path."
   ]
  },
  {
   "cell_type": "code",
   "execution_count": 4,
   "metadata": {
    "tags": []
   },
   "outputs": [
    {
     "name": "stderr",
     "output_type": "stream",
     "text": [
      "[Stage 3:>                                                          (0 + 1) / 1]\r"
     ]
    },
    {
     "name": "stdout",
     "output_type": "stream",
     "text": [
      "Records read from dataframe *commits*: 281,191,977\n",
      "CPU times: user 453 ms, sys: 101 ms, total: 554 ms\n",
      "Wall time: 2min 34s\n"
     ]
    },
    {
     "name": "stderr",
     "output_type": "stream",
     "text": [
      "                                                                                \r"
     ]
    }
   ],
   "source": [
    "%%time   \n",
    "    \n",
    "df_contents = spark.read.parquet(os.path.join(gcs_folder, 'contents'))\n",
    "print(f'Records read from dataframe *commits*: {df_contents.count():,.0f}')"
   ]
  },
  {
   "cell_type": "code",
   "execution_count": 12,
   "metadata": {
    "tags": []
   },
   "outputs": [
    {
     "name": "stdout",
     "output_type": "stream",
     "text": [
      "root\n",
      " |-- id: string (nullable = true)\n",
      " |-- size: long (nullable = true)\n",
      " |-- content: string (nullable = true)\n",
      " |-- binary: boolean (nullable = true)\n",
      " |-- copies: long (nullable = true)\n",
      "\n"
     ]
    }
   ],
   "source": [
    "df_contents.printSchema()"
   ]
  },
  {
   "cell_type": "markdown",
   "metadata": {},
   "source": [
    "#### Files\n",
    "File metadata for all files at HEAD.  \n",
    "Join with `contents` dataset on id columns to search text."
   ]
  },
  {
   "cell_type": "code",
   "execution_count": 8,
   "metadata": {
    "tags": []
   },
   "outputs": [
    {
     "name": "stderr",
     "output_type": "stream",
     "text": [
      "[Stage 17:===================================================>(1079 + 1) / 1080]\r"
     ]
    },
    {
     "name": "stdout",
     "output_type": "stream",
     "text": [
      "Records read from dataframe *files*: 2,309,424,945\n",
      "CPU times: user 15.7 ms, sys: 4.28 ms, total: 20 ms\n",
      "Wall time: 5.7 s\n"
     ]
    },
    {
     "name": "stderr",
     "output_type": "stream",
     "text": [
      "                                                                                \r"
     ]
    }
   ],
   "source": [
    "%%time   \n",
    "    \n",
    "df_files = spark.read.parquet(os.path.join(gcs_folder, 'files'))\n",
    "print(f'Records read from dataframe *files*: {df_files.count():,.0f}')"
   ]
  },
  {
   "cell_type": "code",
   "execution_count": 14,
   "metadata": {
    "tags": []
   },
   "outputs": [
    {
     "name": "stdout",
     "output_type": "stream",
     "text": [
      "root\n",
      " |-- repo_name: string (nullable = true)\n",
      " |-- ref: string (nullable = true)\n",
      " |-- path: string (nullable = true)\n",
      " |-- mode: long (nullable = true)\n",
      " |-- id: string (nullable = true)\n",
      " |-- symlink_target: string (nullable = true)\n",
      "\n"
     ]
    }
   ],
   "source": [
    "df_files.printSchema()"
   ]
  },
  {
   "cell_type": "code",
   "execution_count": 24,
   "metadata": {
    "tags": []
   },
   "outputs": [
    {
     "name": "stdout",
     "output_type": "stream",
     "text": [
      "+-------------------+------------+\n",
      "|          repo_name|    language|\n",
      "+-------------------+------------+\n",
      "|  lemi136/puntovent|   [{C, 80}]|\n",
      "|     taxigps/nctool| [{C, 4461}]|\n",
      "|        ahy1/strbuf| [{C, 5573}]|\n",
      "|nleiten/mod_rpaf-ng|[{C, 30330}]|\n",
      "|kmcallister/alameda|[{C, 17077}]|\n",
      "+-------------------+------------+\n",
      "only showing top 5 rows\n",
      "\n"
     ]
    },
    {
     "name": "stderr",
     "output_type": "stream",
     "text": [
      "                                                                                \r"
     ]
    }
   ],
   "source": [
    "df_languages.show(5)"
   ]
  },
  {
   "cell_type": "markdown",
   "metadata": {},
   "source": [
    "### Languages EDA"
   ]
  },
  {
   "cell_type": "code",
   "execution_count": 12,
   "metadata": {
    "tags": []
   },
   "outputs": [],
   "source": [
    "from pyspark.sql.functions import explode, col\n",
    "\n",
    "df_lang_exp = df_languages.select(\n",
    "    col(\"repo_name\"),\n",
    "    explode(col(\"language\")).alias(\"language_struct\")  \n",
    ")\n",
    "\n",
    "df_lang_flat = df_lang_exp.select(\n",
    "    col(\"repo_name\"),\n",
    "    col(\"language_struct.name\").alias(\"language_name\"),\n",
    "    col(\"language_struct.bytes\").alias(\"language_bytes\")\n",
    ")"
   ]
  },
  {
   "cell_type": "code",
   "execution_count": 13,
   "metadata": {
    "tags": []
   },
   "outputs": [
    {
     "name": "stderr",
     "output_type": "stream",
     "text": [
      "                                                                                \r"
     ]
    },
    {
     "name": "stdout",
     "output_type": "stream",
     "text": [
      "+-------------------+-------------+--------------+\n",
      "|          repo_name|language_name|language_bytes|\n",
      "+-------------------+-------------+--------------+\n",
      "|  lemi136/puntovent|            C|            80|\n",
      "|     taxigps/nctool|            C|          4461|\n",
      "|        ahy1/strbuf|            C|          5573|\n",
      "|nleiten/mod_rpaf-ng|            C|         30330|\n",
      "|kmcallister/alameda|            C|         17077|\n",
      "+-------------------+-------------+--------------+\n",
      "only showing top 5 rows\n",
      "\n"
     ]
    }
   ],
   "source": [
    "df_lang_flat.show(5)"
   ]
  },
  {
   "cell_type": "code",
   "execution_count": 12,
   "metadata": {
    "tags": []
   },
   "outputs": [
    {
     "name": "stderr",
     "output_type": "stream",
     "text": [
      "[Stage 10:==================================================>       (7 + 1) / 8]\r"
     ]
    },
    {
     "name": "stdout",
     "output_type": "stream",
     "text": [
      "+---------+-------------+--------------+\n",
      "|repo_name|language_name|language_bytes|\n",
      "+---------+-------------+--------------+\n",
      "|        0|            0|             0|\n",
      "+---------+-------------+--------------+\n",
      "\n"
     ]
    },
    {
     "name": "stderr",
     "output_type": "stream",
     "text": [
      "                                                                                \r"
     ]
    }
   ],
   "source": [
    "from pyspark.sql.functions import col, sum\n",
    "\n",
    "df_lang_flat.select([sum(col(c).isNull().cast(\"int\")).alias(c) for c in df_lang_flat.columns]).show()"
   ]
  },
  {
   "cell_type": "code",
   "execution_count": 14,
   "metadata": {
    "tags": []
   },
   "outputs": [
    {
     "name": "stderr",
     "output_type": "stream",
     "text": [
      "[Stage 26:======================================>                   (2 + 1) / 3]\r"
     ]
    },
    {
     "name": "stdout",
     "output_type": "stream",
     "text": [
      "+---------+-------------+--------------+-----+\n",
      "|repo_name|language_name|language_bytes|count|\n",
      "+---------+-------------+--------------+-----+\n",
      "+---------+-------------+--------------+-----+\n",
      "\n"
     ]
    },
    {
     "name": "stderr",
     "output_type": "stream",
     "text": [
      "                                                                                \r"
     ]
    }
   ],
   "source": [
    "df_lang_flat.groupBy(df_lang_flat.columns).count().filter(col(\"count\") > 1).show()"
   ]
  },
  {
   "cell_type": "code",
   "execution_count": 16,
   "metadata": {
    "tags": []
   },
   "outputs": [],
   "source": [
    "df_lang_sample = df_lang_flat.sample(withReplacement=False, fraction=0.05, seed=42)"
   ]
  },
  {
   "cell_type": "code",
   "execution_count": 69,
   "metadata": {
    "tags": []
   },
   "outputs": [
    {
     "name": "stderr",
     "output_type": "stream",
     "text": [
      "                                                                                \r"
     ]
    }
   ],
   "source": [
    "df_lang_sample.write.mode(\"overwrite\").parquet(\"gs://msca-bdp-students-bucket/notebooks/aadyanair/Final Project/lang_sample.parquet\")"
   ]
  },
  {
   "cell_type": "markdown",
   "metadata": {},
   "source": [
    "### License EDA"
   ]
  },
  {
   "cell_type": "code",
   "execution_count": 33,
   "metadata": {
    "tags": []
   },
   "outputs": [
    {
     "name": "stderr",
     "output_type": "stream",
     "text": [
      "[Stage 51:==================================================>       (7 + 1) / 8]\r"
     ]
    },
    {
     "name": "stdout",
     "output_type": "stream",
     "text": [
      "+---------+-------+\n",
      "|repo_name|license|\n",
      "+---------+-------+\n",
      "|        0|      0|\n",
      "+---------+-------+\n",
      "\n"
     ]
    },
    {
     "name": "stderr",
     "output_type": "stream",
     "text": [
      "                                                                                \r"
     ]
    }
   ],
   "source": [
    "df_licenses.select([sum(col(c).isNull().cast(\"int\")).alias(c) for c in df_licenses.columns]).show(5)"
   ]
  },
  {
   "cell_type": "code",
   "execution_count": 34,
   "metadata": {
    "tags": []
   },
   "outputs": [
    {
     "name": "stderr",
     "output_type": "stream",
     "text": [
      "                                                                                \r"
     ]
    },
    {
     "name": "stdout",
     "output_type": "stream",
     "text": [
      "+---------+-------+-----+\n",
      "|repo_name|license|count|\n",
      "+---------+-------+-----+\n",
      "+---------+-------+-----+\n",
      "\n"
     ]
    }
   ],
   "source": [
    "df_licenses.groupBy(df_licenses.columns).count().filter(col(\"count\") > 1).show(5)"
   ]
  },
  {
   "cell_type": "code",
   "execution_count": 35,
   "metadata": {
    "tags": []
   },
   "outputs": [],
   "source": [
    "df_license_sample = df_licenses.sample(withReplacement=False, fraction=0.05, seed=42)"
   ]
  },
  {
   "cell_type": "code",
   "execution_count": 71,
   "metadata": {
    "tags": []
   },
   "outputs": [
    {
     "name": "stderr",
     "output_type": "stream",
     "text": [
      "                                                                                \r"
     ]
    }
   ],
   "source": [
    "df_license_sample.write.parquet(\"gs://msca-bdp-students-bucket/notebooks/aadyanair/Final Project/license_sample.parquet\")"
   ]
  },
  {
   "cell_type": "markdown",
   "metadata": {},
   "source": [
    "### Commits EDA"
   ]
  },
  {
   "cell_type": "code",
   "execution_count": 10,
   "metadata": {
    "tags": []
   },
   "outputs": [
    {
     "name": "stderr",
     "output_type": "stream",
     "text": [
      "[Stage 14:>                                                         (0 + 1) / 1]\r"
     ]
    },
    {
     "name": "stdout",
     "output_type": "stream",
     "text": [
      "+--------------------+--------------------+---------------+--------------+--------------------+--------------------+--------------------+--------------------+-------------------+\n",
      "|         author_name|        author_email|author_time_sec|committer_name|     committer_email|              commit|             subject|             message|          repo_name|\n",
      "+--------------------+--------------------+---------------+--------------+--------------------+--------------------+--------------------+--------------------+-------------------+\n",
      "|              zenril|e274eeff768c63960...|     1438918563|        zenril|e274eeff768c63960...|f649205b6894e5936...|    Update README.md|    Update README.md|    zenril/AMRouter|\n",
      "|        Sam Hemelryk|f16bed56189e249fe...|     1377208848|  Sam Hemelryk|f16bed56189e249fe...|22c943b33b2ee2553...|MDL-41213 filepic...|MDL-41213 filepic...|  Raeghin/elearning|\n",
      "|          Tim Penhey|5ee0edb9e2229c083...|     1408589918|    Tim Penhey|5ee0edb9e2229c083...|c75ea9072ec4236d3...|Don't error in en...|Don't error in en...|    perrito666/juju|\n",
      "|Christophe Croull...|f1b34922c935e794b...|     1297095819| Chris Cormack|d7aa3da1d5912a8b3...|36f526a9a8dab7725...|Bug 6116: Adding ...|Bug 6116: Adding ...|clrh/koha_community|\n",
      "|         imandaneshi|ae69a5c2ca1e9e0c0...|     1449607147|   imandaneshi|ae69a5c2ca1e9e0c0...|1e1c297c1ab926e98...|       Plugins fixed|     Plugins fixed\\n| sevenbot/teleseven|\n",
      "+--------------------+--------------------+---------------+--------------+--------------------+--------------------+--------------------+--------------------+-------------------+\n",
      "only showing top 5 rows\n",
      "\n"
     ]
    },
    {
     "name": "stderr",
     "output_type": "stream",
     "text": [
      "                                                                                \r"
     ]
    }
   ],
   "source": [
    "from pyspark.sql.functions import col, explode\n",
    "\n",
    "df_expanded = df_commits.select(\n",
    "    col(\"author.name\").alias(\"author_name\"),\n",
    "    col(\"author.email\").alias(\"author_email\"),\n",
    "    col(\"author.time_sec\").alias(\"author_time_sec\"),\n",
    "    col(\"committer.name\").alias(\"committer_name\"),\n",
    "    col(\"committer.email\").alias(\"committer_email\"),\n",
    "    col(\"commit\"),\n",
    "    col(\"subject\"),\n",
    "    col(\"message\"),\n",
    "    explode(col(\"repo_name\")).alias(\"repo_name\") \n",
    ")\n",
    "\n",
    "# Removing rows with null values\n",
    "df_cleaned = df_expanded.dropna()\n",
    "\n",
    "# Removing duplicates\n",
    "df_final = df_cleaned.dropDuplicates()\n",
    "\n",
    "df_final.show(5)"
   ]
  },
  {
   "cell_type": "code",
   "execution_count": 11,
   "metadata": {
    "tags": []
   },
   "outputs": [
    {
     "name": "stderr",
     "output_type": "stream",
     "text": [
      "                                                                                \r"
     ]
    }
   ],
   "source": [
    "df_commits_sample = df_final.sample(withReplacement=False, fraction=0.05, seed=42)\n",
    "df_commits_sample.write.mode(\"overwrite\").parquet(\"gs://msca-bdp-students-bucket/notebooks/aadyanair/Final Project/commits_sample.parquet\")"
   ]
  },
  {
   "cell_type": "markdown",
   "metadata": {},
   "source": [
    "#### Contents EDA"
   ]
  },
  {
   "cell_type": "code",
   "execution_count": 5,
   "metadata": {
    "tags": []
   },
   "outputs": [],
   "source": [
    "df_contents_clean = df_contents.dropna()\n",
    "df_contents_clean = df_contents_clean.dropDuplicates()"
   ]
  },
  {
   "cell_type": "code",
   "execution_count": null,
   "metadata": {
    "tags": []
   },
   "outputs": [
    {
     "name": "stderr",
     "output_type": "stream",
     "text": [
      "                                                                                \r"
     ]
    }
   ],
   "source": [
    "df_content_sample = df_contents_clean.sample(withReplacement=False, fraction=0.05, seed=42)\n",
    "df_content_sample.write.parquet(\"gs://msca-bdp-students-bucket/notebooks/aadyanair/Final Project/content_sample.parquet\")"
   ]
  },
  {
   "cell_type": "markdown",
   "metadata": {},
   "source": [
    "#### Files EDA"
   ]
  },
  {
   "cell_type": "code",
   "execution_count": 27,
   "metadata": {
    "tags": []
   },
   "outputs": [
    {
     "name": "stderr",
     "output_type": "stream",
     "text": [
      "[Stage 33:>                                                         (0 + 1) / 1]\r"
     ]
    },
    {
     "name": "stdout",
     "output_type": "stream",
     "text": [
      "+--------------------+-----------------+--------------------+-----+--------------------+--------------+\n",
      "|           repo_name|              ref|                path| mode|                  id|symlink_target|\n",
      "+--------------------+-----------------+--------------------+-----+--------------------+--------------+\n",
      "|    enzbang/diouzhtu|refs/heads/master|gwiad_wiki_servic...|33261|49365044eed287691...|          NULL|\n",
      "|TheMrNomis/Latex-...|refs/heads/master|             LFM.php|33261|ef8cb78feed7f2111...|          NULL|\n",
      "|TheMrNomis/Latex-...|refs/heads/master|PHP/LatexFlavored...|33261|d989ce59652f57efa...|          NULL|\n",
      "|    xurigan/uexJPush|refs/heads/master|EUExJPush/EUExJPu...|33261|85268b90caa19efa2...|          NULL|\n",
      "|    xurigan/uexJPush|refs/heads/master|EUExJPush/uexJPus...|33261|e1623bb9d8dc7db60...|          NULL|\n",
      "|    xurigan/uexJPush|refs/heads/master|EUExJPush/EUExJPu...|33261|28a191eb0791ad2b0...|          NULL|\n",
      "|    xurigan/uexJPush|refs/heads/master|EUExJPush/EUExJPu...|33261|e51654e7a1b83bae8...|          NULL|\n",
      "|    xurigan/uexJPush|refs/heads/master|EUExJPush/EUExJPu...|33261|94075a695906098d8...|          NULL|\n",
      "+--------------------+-----------------+--------------------+-----+--------------------+--------------+\n",
      "only showing top 8 rows\n",
      "\n"
     ]
    },
    {
     "name": "stderr",
     "output_type": "stream",
     "text": [
      "                                                                                \r"
     ]
    }
   ],
   "source": [
    "df_files.show(8)"
   ]
  },
  {
   "cell_type": "code",
   "execution_count": null,
   "metadata": {},
   "outputs": [],
   "source": [
    "df_files_clean = df_files.drop(\"symlink_target\")\n",
    "df_files_clean = df_files.dropna()\n",
    "df_files_clean = df_files_clean.dropDuplicates()"
   ]
  },
  {
   "cell_type": "code",
   "execution_count": null,
   "metadata": {},
   "outputs": [],
   "source": [
    "df_files_sample = df_files_clean.sample(withReplacement=False, fraction=0.05, seed=42)\n",
    "df_files_sample.write.parquet(\"gs://msca-bdp-students-bucket/notebooks/aadyanair/Final Project/files_sample.parquet\")"
   ]
  },
  {
   "cell_type": "markdown",
   "metadata": {},
   "source": [
    "#### What is the timeline of the data?  Do you see significant peaks and valleys?"
   ]
  },
  {
   "cell_type": "code",
   "execution_count": 49,
   "metadata": {
    "tags": []
   },
   "outputs": [],
   "source": [
    "from pyspark.sql.functions import col, from_unixtime, year, month, dayofmonth\n",
    "\n",
    "df_commits = df_commits.withColumn(\"timestamp\", from_unixtime(col(\"author.time_sec\")))\n",
    "df_commits = df_commits.withColumn(\"year\", year(col(\"timestamp\")))"
   ]
  },
  {
   "cell_type": "code",
   "execution_count": 56,
   "metadata": {
    "tags": []
   },
   "outputs": [
    {
     "name": "stderr",
     "output_type": "stream",
     "text": [
      "[Stage 123:==================================================>(3483 + 1) / 3484]\r"
     ]
    },
    {
     "name": "stdout",
     "output_type": "stream",
     "text": [
      "+-------------+-----------+\n",
      "|Earliest Year|Latest Year|\n",
      "+-------------+-----------+\n",
      "|         1970|       2245|\n",
      "+-------------+-----------+\n",
      "\n"
     ]
    },
    {
     "name": "stderr",
     "output_type": "stream",
     "text": [
      "                                                                                \r"
     ]
    }
   ],
   "source": [
    "from pyspark.sql.functions import min, max\n",
    "\n",
    "df_commits.select(min(\"year\").alias(\"Earliest Year\"), max(\"year\").alias(\"Latest Year\")).show()"
   ]
  },
  {
   "cell_type": "markdown",
   "metadata": {},
   "source": [
    "The data starts from 1970 and goes till 2245"
   ]
  },
  {
   "cell_type": "code",
   "execution_count": 62,
   "metadata": {
    "tags": []
   },
   "outputs": [],
   "source": [
    "df_commits_filtered = df_commits.filter((col(\"year\") >= 2000) & (col(\"year\") <= 2020))"
   ]
  },
  {
   "cell_type": "code",
   "execution_count": 51,
   "metadata": {
    "tags": []
   },
   "outputs": [],
   "source": [
    "commits_by_year = df_commits_filtered.groupBy(\"year\").count()\n",
    "commits_by_year = commits_by_year.orderBy(\"year\")"
   ]
  },
  {
   "cell_type": "markdown",
   "metadata": {},
   "source": [
    "#### Do you see any outliers?  Remove obvious outliers before plotting the timeline"
   ]
  },
  {
   "cell_type": "code",
   "execution_count": 64,
   "metadata": {
    "tags": []
   },
   "outputs": [
    {
     "name": "stderr",
     "output_type": "stream",
     "text": [
      "[Stage 159:==================================================>(3482 + 2) / 3484]\r"
     ]
    },
    {
     "name": "stdout",
     "output_type": "stream",
     "text": [
      "+----+-----+\n",
      "|year|count|\n",
      "+----+-----+\n",
      "+----+-----+\n",
      "\n"
     ]
    },
    {
     "name": "stderr",
     "output_type": "stream",
     "text": [
      "                                                                                \r"
     ]
    }
   ],
   "source": [
    "q1 = commits_by_year.approxQuantile(\"count\", [0.25], 0.01)[0]\n",
    "q3 = commits_by_year.approxQuantile(\"count\", [0.75], 0.01)[0]\n",
    "\n",
    "iqr = q3 - q1\n",
    "lower_bound = q1 - 1.5 * iqr\n",
    "upper_bound = q3 + 1.5 * iqr\n",
    "\n",
    "outliers = commits_by_year.filter((col(\"count\") < lower_bound) | (col(\"count\") > upper_bound))\n",
    "outliers.show()"
   ]
  },
  {
   "cell_type": "markdown",
   "metadata": {},
   "source": [
    "no outliers present in the chunk of data taken"
   ]
  },
  {
   "cell_type": "markdown",
   "metadata": {},
   "source": [
    "#### Do you see any spikes?  Are these spikes caused by real activities / events?"
   ]
  },
  {
   "cell_type": "code",
   "execution_count": 52,
   "metadata": {
    "tags": []
   },
   "outputs": [
    {
     "name": "stderr",
     "output_type": "stream",
     "text": [
      "                                                                                \r"
     ]
    },
    {
     "data": {
      "image/png": "[encoded data removed]",
      "text/plain": [
       "<Figure size 1200x600 with 1 Axes>"
      ]
     },
     "metadata": {},
     "output_type": "display_data"
    }
   ],
   "source": [
    "pdf = commits_by_year.toPandas()\n",
    "\n",
    "plt.figure(figsize=(12, 6))\n",
    "plt.plot(pdf[\"year\"], pdf[\"count\"], marker=\"o\")\n",
    "plt.title(\"Number of Commits Over Time (by Year)\")\n",
    "plt.xlabel(\"Year\")\n",
    "plt.ylabel(\"Number of Commits\")\n",
    "plt.grid(True)\n",
    "plt.show()"
   ]
  },
  {
   "cell_type": "markdown",
   "metadata": {},
   "source": [
    "I took a chunk of data to view seasonality from 2000-2020 and observed that it starts rising from 2012 and reachest its peak in 2016 and then sharply drops after that."
   ]
  },
  {
   "cell_type": "markdown",
   "metadata": {},
   "source": [
    "Steady Growth (2000–2014):\n",
    "The number of commits steadily increased from ~425K (2000) to ~27.5M (2014).\n",
    "The sharpest increase happened after 2010, which aligns with GitHub's rapid adoption and the overall rise in open-source development.\n",
    "The peak growth was between 2012–2015, showing an almost exponential rise.\n",
    "\n",
    "Peak Activity (2015–2016):\n",
    "2015 (36.3M commits) and 2016 (37.9M commits) were the highest activity years.\n",
    "2017 maintained a similar level, indicating that GitHub usage was stable at its peak.\n",
    "\n",
    "Sharp Decline After 2017:\n",
    "2018 saw a significant drop (from ~37.9M to ~18.7M commits).\n",
    "The downward trend continued in 2019 (12.9M commits).\n",
    "\n",
    "Possible Reasons for the Drop After 2017\n",
    "Data collection gaps: Some repositories or commits might be missing in later years.\n",
    "Changes in GitHub activity: Developers might be using fewer but more refined commits.\n",
    "Private repositories growth: More companies using private repositories might result in fewer public commits.\n",
    "Shift in coding practices: The rise of CI/CD and automated workflows might have changed how commits are logged."
   ]
  },
  {
   "cell_type": "markdown",
   "metadata": {},
   "source": [
    "#### Do you see any data collection gaps?"
   ]
  },
  {
   "cell_type": "code",
   "execution_count": 60,
   "metadata": {
    "tags": []
   },
   "outputs": [
    {
     "name": "stderr",
     "output_type": "stream",
     "text": [
      "[Stage 140:==================================================>(3483 + 1) / 3484]\r"
     ]
    },
    {
     "name": "stdout",
     "output_type": "stream",
     "text": [
      "+----+------------+\n",
      "|year|commit_count|\n",
      "+----+------------+\n",
      "|2000|      424985|\n",
      "|2001|      686681|\n",
      "|2002|      945741|\n",
      "|2003|     1629028|\n",
      "|2004|     1400224|\n",
      "|2005|     1740799|\n",
      "|2006|     2214206|\n",
      "|2007|     2877055|\n",
      "|2008|     3858955|\n",
      "|2009|     5333641|\n",
      "|2010|     6815212|\n",
      "|2011|     8615003|\n",
      "|2012|    11809031|\n",
      "|2013|    18237689|\n",
      "|2014|    27534680|\n",
      "|2015|    36295258|\n",
      "|2016|    37976755|\n",
      "|2017|    37969686|\n",
      "|2018|    18668664|\n",
      "|2019|    12976504|\n",
      "+----+------------+\n",
      "only showing top 20 rows\n",
      "\n"
     ]
    },
    {
     "name": "stderr",
     "output_type": "stream",
     "text": [
      "                                                                                \r"
     ]
    }
   ],
   "source": [
    "from pyspark.sql.functions import count\n",
    "\n",
    "commits_per_year = df_commits_filtered.groupBy(\"year\").agg(count(\"*\").alias(\"commit_count\"))\n",
    "commits_per_year = commits_per_year.orderBy(\"year\")\n",
    "commits_per_year.show(20)  "
   ]
  },
  {
   "cell_type": "markdown",
   "metadata": {},
   "source": [
    "There is a noticeable dip in commit activity from 2003 (1,629,028) to 2004 (1,400,224), followed by a steady increase in subsequent years. However, a sharp decline is observed after 2017, with 2018 seeing a significant drop from approximately 37.9 million commits to around 18.7 million, and the downward trend continuing into 2019, with only 12.9 million commits recorded. This suggests a potential decrease in overall activity or could point to data inconsistencies during this period."
   ]
  },
  {
   "cell_type": "markdown",
   "metadata": {},
   "source": [
    "#### What are the most popular programming languages on GitHub?"
   ]
  },
  {
   "cell_type": "code",
   "execution_count": 17,
   "metadata": {
    "tags": []
   },
   "outputs": [],
   "source": [
    "from pyspark.sql.functions import sum\n",
    "\n",
    "df_most_used = df_lang_sample.groupBy(\"language_name\").agg(sum(\"language_bytes\").alias(\"total_bytes\"))"
   ]
  },
  {
   "cell_type": "code",
   "execution_count": 18,
   "metadata": {
    "tags": []
   },
   "outputs": [
    {
     "name": "stderr",
     "output_type": "stream",
     "text": [
      "[Stage 23:=====================================================>  (25 + 1) / 26]\r"
     ]
    },
    {
     "name": "stdout",
     "output_type": "stream",
     "text": [
      "+-------------+------------+\n",
      "|language_name| total_bytes|\n",
      "+-------------+------------+\n",
      "|            C|297795085381|\n",
      "|   JavaScript| 59480577944|\n",
      "|          C++| 28727585889|\n",
      "|          PHP| 25773881121|\n",
      "|         HTML| 17404356519|\n",
      "|         Java| 15632650874|\n",
      "|       Python|  9294181841|\n",
      "|          CSS|  7627597009|\n",
      "|     Assembly|  6612351939|\n",
      "|           C#|  5828881159|\n",
      "+-------------+------------+\n",
      "only showing top 10 rows\n",
      "\n"
     ]
    },
    {
     "name": "stderr",
     "output_type": "stream",
     "text": [
      "                                                                                \r"
     ]
    }
   ],
   "source": [
    "df_most_used.orderBy(col(\"total_bytes\").desc()).show(10)"
   ]
  },
  {
   "cell_type": "markdown",
   "metadata": {},
   "source": [
    "#### Did the trend of most popular programming languages change over time?"
   ]
  },
  {
   "cell_type": "code",
   "execution_count": 19,
   "metadata": {
    "tags": []
   },
   "outputs": [],
   "source": [
    "from pyspark.sql.functions import col, expr\n",
    "\n",
    "df_commits = df_commits.withColumn(\"repo_name\", expr(\"repo_name[0]\"))"
   ]
  },
  {
   "cell_type": "code",
   "execution_count": 20,
   "metadata": {
    "tags": []
   },
   "outputs": [],
   "source": [
    "from pyspark.sql.functions import from_unixtime, year\n",
    "\n",
    "df_commits_date = df_commits.select(\n",
    "    col(\"repo_name\"),\n",
    "    col(\"author.date.seconds\").alias(\"timestamp\")\n",
    ")\n",
    "\n",
    "df_commits_date = df_commits_date.withColumn(\"year\", year(from_unixtime(col(\"timestamp\"))))"
   ]
  },
  {
   "cell_type": "code",
   "execution_count": 21,
   "metadata": {
    "tags": []
   },
   "outputs": [],
   "source": [
    "df_lang_time = df_lang_flat.join(df_commits_date, on=\"repo_name\", how=\"inner\")"
   ]
  },
  {
   "cell_type": "code",
   "execution_count": 22,
   "metadata": {
    "tags": []
   },
   "outputs": [],
   "source": [
    "from pyspark.sql.functions import from_unixtime, to_date\n",
    "\n",
    "df_lang_time = df_lang_time.withColumn(\"date\", to_date(from_unixtime(\"timestamp\")))"
   ]
  },
  {
   "cell_type": "code",
   "execution_count": 32,
   "metadata": {
    "tags": []
   },
   "outputs": [
    {
     "name": "stderr",
     "output_type": "stream",
     "text": [
      "[Stage 46:>                                                         (0 + 1) / 1]\r"
     ]
    },
    {
     "name": "stdout",
     "output_type": "stream",
     "text": [
      "+--------------------+-------------+--------------+----------+----+----------+\n",
      "|           repo_name|language_name|language_bytes| timestamp|year|      date|\n",
      "+--------------------+-------------+--------------+----------+----+----------+\n",
      "|MadCat34/zend-esc...|          PHP|         27672|1323443117|2011|2011-12-09|\n",
      "|pscedu/slash2-stable|         Yacc|         31912|1303924643|2011|2011-04-27|\n",
      "|pscedu/slash2-stable|         XSLT|          9363|1303924643|2011|2011-04-27|\n",
      "|pscedu/slash2-stable|        Shell|        705302|1303924643|2011|2011-04-27|\n",
      "|pscedu/slash2-stable|         Roff|        404427|1303924643|2011|2011-04-27|\n",
      "+--------------------+-------------+--------------+----------+----+----------+\n",
      "only showing top 5 rows\n",
      "\n"
     ]
    },
    {
     "name": "stderr",
     "output_type": "stream",
     "text": [
      "                                                                                \r"
     ]
    }
   ],
   "source": [
    "df_lang_time.show(5)"
   ]
  },
  {
   "cell_type": "code",
   "execution_count": 36,
   "metadata": {
    "tags": []
   },
   "outputs": [
    {
     "name": "stderr",
     "output_type": "stream",
     "text": [
      "[Stage 56:>                                                         (0 + 1) / 1]\r"
     ]
    },
    {
     "name": "stdout",
     "output_type": "stream",
     "text": [
      "+-------------+-------------+--------------+---------+----+----+\n",
      "|    repo_name|language_name|language_bytes|timestamp|year|date|\n",
      "+-------------+-------------+--------------+---------+----+----+\n",
      "|pawohl/studip|         XSLT|        187551|     NULL|NULL|NULL|\n",
      "|pawohl/studip|       Smarty|         51991|     NULL|NULL|NULL|\n",
      "|pawohl/studip|        Shell|          1589|     NULL|NULL|NULL|\n",
      "|pawohl/studip|         Ruby|          1431|     NULL|NULL|NULL|\n",
      "|pawohl/studip|          PHP|      11086274|     NULL|NULL|NULL|\n",
      "+-------------+-------------+--------------+---------+----+----+\n",
      "only showing top 5 rows\n",
      "\n"
     ]
    },
    {
     "name": "stderr",
     "output_type": "stream",
     "text": [
      "                                                                                \r"
     ]
    }
   ],
   "source": [
    "df_lang_time.filter(F.col(\"year\").isNull()).show(5)"
   ]
  },
  {
   "cell_type": "code",
   "execution_count": 23,
   "metadata": {
    "tags": []
   },
   "outputs": [],
   "source": [
    "df_lang_time_clean = df_lang_time.filter(F.col(\"year\").isNotNull())"
   ]
  },
  {
   "cell_type": "code",
   "execution_count": 24,
   "metadata": {
    "tags": []
   },
   "outputs": [
    {
     "name": "stderr",
     "output_type": "stream",
     "text": [
      "[Stage 33:=====================================================>(358 + 1) / 359]\r"
     ]
    },
    {
     "name": "stdout",
     "output_type": "stream",
     "text": [
      "+---------+-------------+--------------+---------+----+----+\n",
      "|repo_name|language_name|language_bytes|timestamp|year|date|\n",
      "+---------+-------------+--------------+---------+----+----+\n",
      "+---------+-------------+--------------+---------+----+----+\n",
      "\n"
     ]
    },
    {
     "name": "stderr",
     "output_type": "stream",
     "text": [
      "                                                                                \r"
     ]
    }
   ],
   "source": [
    "df_lang_time_clean.filter(F.col(\"year\").isNull()).show(5)"
   ]
  },
  {
   "cell_type": "code",
   "execution_count": 25,
   "metadata": {
    "tags": []
   },
   "outputs": [],
   "source": [
    "df_lang_time_sample = df_lang_time_clean.sample(withReplacement=False, fraction=0.05, seed=42)"
   ]
  },
  {
   "cell_type": "code",
   "execution_count": 28,
   "metadata": {
    "tags": []
   },
   "outputs": [],
   "source": [
    "from pyspark.sql import functions as F\n",
    "\n",
    "language_trends = df_lang_time_sample.groupBy(\"year\", \"language_name\").count()\n",
    "language_trends = language_trends.orderBy(\"year\", F.desc(\"count\"))"
   ]
  },
  {
   "cell_type": "code",
   "execution_count": 29,
   "metadata": {
    "tags": []
   },
   "outputs": [
    {
     "name": "stderr",
     "output_type": "stream",
     "text": [
      "[Stage 41:===============================================>       (72 + 12) / 84]\r"
     ]
    },
    {
     "name": "stdout",
     "output_type": "stream",
     "text": [
      "+----+-------------+-----+\n",
      "|year|language_name|count|\n",
      "+----+-------------+-----+\n",
      "|1970|         HTML|   29|\n",
      "|1970|        Shell|   29|\n",
      "|1970|       Racket|   26|\n",
      "|1970|         Ruby|   24|\n",
      "|1970|      Arduino|   23|\n",
      "+----+-------------+-----+\n",
      "only showing top 5 rows\n",
      "\n"
     ]
    },
    {
     "name": "stderr",
     "output_type": "stream",
     "text": [
      "                                                                                \r"
     ]
    }
   ],
   "source": [
    "language_trends.show(5)"
   ]
  },
  {
   "cell_type": "code",
   "execution_count": 30,
   "metadata": {
    "tags": []
   },
   "outputs": [
    {
     "name": "stderr",
     "output_type": "stream",
     "text": [
      "                                                                                \r"
     ]
    }
   ],
   "source": [
    "df_lang_flat.write.parquet(\"gs://msca-bdp-students-bucket/notebooks/aadyanair/lang_flat.parquet\")\n",
    "df_lang_sample.write.parquet(\"gs://msca-bdp-students-bucket/notebooks/aadyanair/lang_sample.parquet\")\n",
    "df_lang_time.write.parquet(\"gs://msca-bdp-students-bucket/notebooks/aadyanair/lang_time.parquet\")\n",
    "df_lang_time_sample.write.parquet(\"gs://msca-bdp-students-bucket/notebooks/aadyanair/lang_time_sample.parquet\")"
   ]
  },
  {
   "cell_type": "markdown",
   "metadata": {},
   "source": [
    "### What is the distribution of licenses across GitHub repositories?"
   ]
  },
  {
   "cell_type": "code",
   "execution_count": 36,
   "metadata": {
    "tags": []
   },
   "outputs": [],
   "source": [
    "license_distribution = df_license_sample.groupBy(\"license\").count()\n",
    "license_distribution = license_distribution.orderBy(F.desc(\"count\"))"
   ]
  },
  {
   "cell_type": "code",
   "execution_count": 37,
   "metadata": {
    "tags": []
   },
   "outputs": [
    {
     "name": "stdout",
     "output_type": "stream",
     "text": [
      "+------------+-----+\n",
      "|     license|count|\n",
      "+------------+-----+\n",
      "|         mit|85030|\n",
      "|  apache-2.0|24866|\n",
      "|     gpl-2.0|17094|\n",
      "|     gpl-3.0|16910|\n",
      "|bsd-3-clause| 7464|\n",
      "+------------+-----+\n",
      "only showing top 5 rows\n",
      "\n"
     ]
    }
   ],
   "source": [
    "license_distribution.show(5)"
   ]
  },
  {
   "cell_type": "markdown",
   "metadata": {},
   "source": [
    "#### Any certain programming languages that are more likely to be associated with a particular license?"
   ]
  },
  {
   "cell_type": "code",
   "execution_count": 38,
   "metadata": {
    "tags": []
   },
   "outputs": [],
   "source": [
    "df_lang_license = df_lang_sample.join(df_license_sample, \"repo_name\", \"inner\")"
   ]
  },
  {
   "cell_type": "code",
   "execution_count": 42,
   "metadata": {
    "tags": []
   },
   "outputs": [],
   "source": [
    "language_license_distribution = df_lang_license.groupBy(\"language_name\", \"license\").count()\n",
    "language_license_distribution = language_license_distribution.orderBy(F.desc(\"count\"))"
   ]
  },
  {
   "cell_type": "code",
   "execution_count": 43,
   "metadata": {
    "tags": []
   },
   "outputs": [
    {
     "name": "stderr",
     "output_type": "stream",
     "text": [
      "[Stage 99:==================================================>       (7 + 1) / 8]\r"
     ]
    },
    {
     "name": "stdout",
     "output_type": "stream",
     "text": [
      "+-------------+----------+-----+\n",
      "|language_name|   license|count|\n",
      "+-------------+----------+-----+\n",
      "|   JavaScript|       mit| 1702|\n",
      "|          CSS|       mit| 1131|\n",
      "|         HTML|       mit| 1033|\n",
      "|         Ruby|       mit|  660|\n",
      "|        Shell|       mit|  640|\n",
      "|       Python|       mit|  507|\n",
      "|          PHP|       mit|  404|\n",
      "|         Java|apache-2.0|  343|\n",
      "|   JavaScript|apache-2.0|  322|\n",
      "|         HTML|apache-2.0|  311|\n",
      "+-------------+----------+-----+\n",
      "only showing top 10 rows\n",
      "\n"
     ]
    },
    {
     "name": "stderr",
     "output_type": "stream",
     "text": [
      "                                                                                \r"
     ]
    }
   ],
   "source": [
    "language_license_distribution.show(10)"
   ]
  },
  {
   "cell_type": "code",
   "execution_count": 44,
   "metadata": {
    "tags": []
   },
   "outputs": [
    {
     "name": "stderr",
     "output_type": "stream",
     "text": [
      "                                                                                \r"
     ]
    }
   ],
   "source": [
    "df_lang_license.write.parquet(\"gs://msca-bdp-students-bucket/notebooks/aadyanair/lang_license.parquet\")"
   ]
  }
 ],
 "metadata": {
  "environment": {
   "kernel": "9c39b79e5d2e7072beb4bd59-runtime-000091a417d9",
   "name": "workbench-notebooks.m128",
   "type": "gcloud",
   "uri": "us-docker.pkg.dev/deeplearning-platform-release/gcr.io/workbench-notebooks:m128"
  },
  "kernelspec": {
   "display_name": "bdp-student-template on Serverless Spark (Remote)",
   "language": "python",
   "name": "9c39b79e5d2e7072beb4bd59-runtime-000091a417d9"
  },
  "language_info": {
   "codemirror_mode": {
    "name": "ipython",
    "version": 3
   },
   "file_extension": ".py",
   "mimetype": "text/x-python",
   "name": "python",
   "nbconvert_exporter": "python",
   "pygments_lexer": "ipython3",
   "version": "3.12.3"
  }
 },
 "nbformat": 4,
 "nbformat_minor": 4
}
